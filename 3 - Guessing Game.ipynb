{
 "cells": [
  {
   "cell_type": "code",
   "execution_count": 3,
   "metadata": {},
   "outputs": [
    {
     "data": {
      "text/plain": [
       "3"
      ]
     },
     "execution_count": 3,
     "metadata": {},
     "output_type": "execute_result"
    }
   ],
   "source": [
    "import random\n",
    "random.randint(1,100)"
   ]
  },
  {
   "cell_type": "code",
   "execution_count": 5,
   "metadata": {},
   "outputs": [
    {
     "name": "stdout",
     "output_type": "stream",
     "text": [
      "Please select a number between 1 and 100, What is your Guess? 50\n",
      "Cold\n",
      "Please select a number between 1 and 100, What is your Guess? 30\n",
      "Colder\n",
      "Please select a number between 1 and 100, What is your Guess? 40\n",
      "Warmer\n",
      "Please select a number between 1 and 100, What is your Guess? 45\n",
      "Warmer\n",
      "Please select a number between 1 and 100, What is your Guess? 46\n",
      "Warmer\n",
      "Please select a number between 1 and 100, What is your Guess? 50\n",
      "Warmer\n",
      "Please select a number between 1 and 100, What is your Guess? 55\n",
      "Warmer\n",
      "Please select a number between 1 and 100, What is your Guess? 60\n",
      "Correct!!! it took you 8 Guesses\n"
     ]
    }
   ],
   "source": [
    "import random\n",
    "guesslist = [random.randint(1,100),0]\n",
    "while True: \n",
    "    guess = int(input('Please select a number between 1 and 100, What is your Guess? '))\n",
    "    if guesslist[0] != guess:\n",
    "        guesslist.append(guess)\n",
    "      \n",
    "        if guesslist[-2]:\n",
    "            if abs(guess-guesslist[0])>abs(guesslist[-2]-guesslist[0]):\n",
    "                print('Colder')\n",
    "            else:\n",
    "                print('Warmer')\n",
    "        else:\n",
    "            if abs(guess-guesslist[0])<10:\n",
    "                print(\"Warm\")\n",
    "            else:\n",
    "                print('Cold')\n",
    "       \n",
    "    if guess > 100 or guess< 1: \n",
    "        print('Out of Bounds,Please guess again')\n",
    "    if guesslist[0] ==guess:\n",
    "        print('Correct!!! it took you {} Guesses'.format(len(guesslist)-1))\n",
    "        break \n",
    "    "
   ]
  },
  {
   "cell_type": "code",
   "execution_count": null,
   "metadata": {},
   "outputs": [],
   "source": []
  },
  {
   "cell_type": "code",
   "execution_count": null,
   "metadata": {},
   "outputs": [],
   "source": []
  }
 ],
 "metadata": {
  "kernelspec": {
   "display_name": "Python 3",
   "language": "python",
   "name": "python3"
  },
  "language_info": {
   "codemirror_mode": {
    "name": "ipython",
    "version": 3
   },
   "file_extension": ".py",
   "mimetype": "text/x-python",
   "name": "python",
   "nbconvert_exporter": "python",
   "pygments_lexer": "ipython3",
   "version": "3.8.3"
  }
 },
 "nbformat": 4,
 "nbformat_minor": 4
}
