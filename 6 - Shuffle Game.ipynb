{
 "cells": [
  {
   "cell_type": "code",
   "execution_count": 28,
   "metadata": {},
   "outputs": [],
   "source": [
    "my_list = [' ','O',' ']\n",
    "from random import shuffle\n",
    "# Shuffle list\n",
    "def shuffle_list(my_list):\n",
    "    shuffle(my_list)\n",
    "    return my_list"
   ]
  },
  {
   "cell_type": "code",
   "execution_count": 41,
   "metadata": {},
   "outputs": [],
   "source": [
    "#Take Player's Guess\n",
    "def player_guess():\n",
    "    guess = ''\n",
    "    \n",
    "    while guess not in ['0','1','2']:\n",
    "        guess = input(\"Please guess an index position between 0 , 1 , 2 ?\")\n",
    "    \n",
    "    return int(guess)\n",
    "    "
   ]
  },
  {
   "cell_type": "code",
   "execution_count": 42,
   "metadata": {},
   "outputs": [],
   "source": [
    "# check the users guess\n",
    "def check_guess(my_list,guess): \n",
    "    print(my_list)\n",
    "    if my_list[guess] == 'O':\n",
    "        \n",
    "        print(\"Congratulations, You are correct\")\n",
    "    else: \n",
    "        print(\"Sorry,Wrong\")"
   ]
  },
  {
   "cell_type": "code",
   "execution_count": 45,
   "metadata": {},
   "outputs": [
    {
     "name": "stdout",
     "output_type": "stream",
     "text": [
      "Please guess an index position between 0 , 1 , 2 ?0\n",
      "['O', ' ', ' ']\n",
      "Congratulations, You are correct\n"
     ]
    }
   ],
   "source": [
    "my_list = [' ','O',' ']\n",
    "new_list = shuffle_list(my_list)\n",
    "guess = player_guess()\n",
    "check_guess(new_list,guess)\n"
   ]
  }
 ],
 "metadata": {
  "kernelspec": {
   "display_name": "Python 3",
   "language": "python",
   "name": "python3"
  },
  "language_info": {
   "codemirror_mode": {
    "name": "ipython",
    "version": 3
   },
   "file_extension": ".py",
   "mimetype": "text/x-python",
   "name": "python",
   "nbconvert_exporter": "python",
   "pygments_lexer": "ipython3",
   "version": "3.8.3"
  }
 },
 "nbformat": 4,
 "nbformat_minor": 4
}
